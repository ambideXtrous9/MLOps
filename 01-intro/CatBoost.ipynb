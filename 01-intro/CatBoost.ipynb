{
 "cells": [
  {
   "cell_type": "code",
   "execution_count": null,
   "id": "3510b14d",
   "metadata": {},
   "outputs": [],
   "source": [
    "import seaborn as sns\n",
    "import warnings\n",
    "import numpy as np\n",
    "import pandas as pd\n",
    "warnings.filterwarnings('ignore')\n",
    "import mlflow\n",
    "from sklearn.model_selection import train_test_split\n",
    "import matplotlib.pyplot as plt\n",
    "from sklearn.metrics import mean_squared_error as RMSE "
   ]
  },
  {
   "cell_type": "code",
   "execution_count": 85,
   "id": "ebe74ba5",
   "metadata": {},
   "outputs": [],
   "source": [
    "from hyperopt import STATUS_OK, Trials, fmin, hp, tpe, space_eval \n",
    "from hyperopt.early_stop import no_progress_loss"
   ]
  },
  {
   "cell_type": "code",
   "execution_count": null,
   "id": "a4cc9d33",
   "metadata": {},
   "outputs": [],
   "source": [
    "mlflow.set_tracking_uri(\"sqlite:///mlflow.db\")\n",
    "mlflow.set_experiment(\"NYC-Taxi-Regressor\")"
   ]
  },
  {
   "cell_type": "code",
   "execution_count": 87,
   "id": "337eb590-aab4-4b93-a829-6595e50cb61f",
   "metadata": {},
   "outputs": [],
   "source": [
    "df = pd.read_parquet('https://d37ci6vzurychx.cloudfront.net/trip-data/green_tripdata_2021-01.parquet')"
   ]
  },
  {
   "cell_type": "code",
   "execution_count": null,
   "id": "e07dc4d7-e277-44d8-9e2d-6914d6077858",
   "metadata": {},
   "outputs": [],
   "source": [
    "df"
   ]
  },
  {
   "cell_type": "code",
   "execution_count": null,
   "id": "17953ef0-d4f0-4d5b-b13c-39b764675231",
   "metadata": {},
   "outputs": [],
   "source": [
    "df.dtypes"
   ]
  },
  {
   "cell_type": "code",
   "execution_count": 90,
   "id": "79679f79",
   "metadata": {},
   "outputs": [],
   "source": [
    "df['duration'] = df['lpep_dropoff_datetime'] - df['lpep_pickup_datetime']"
   ]
  },
  {
   "cell_type": "code",
   "execution_count": null,
   "id": "cd24f57a",
   "metadata": {},
   "outputs": [],
   "source": [
    "df.head()"
   ]
  },
  {
   "cell_type": "code",
   "execution_count": 92,
   "id": "640843ba",
   "metadata": {},
   "outputs": [],
   "source": [
    "df.duration = df.duration.apply(lambda ld : ld.total_seconds()/60)"
   ]
  },
  {
   "cell_type": "code",
   "execution_count": null,
   "id": "4949279f",
   "metadata": {},
   "outputs": [],
   "source": [
    "df.head()"
   ]
  },
  {
   "cell_type": "code",
   "execution_count": null,
   "id": "87522207",
   "metadata": {},
   "outputs": [],
   "source": [
    "df.duration.describe()"
   ]
  },
  {
   "cell_type": "code",
   "execution_count": null,
   "id": "171f21af",
   "metadata": {},
   "outputs": [],
   "source": [
    "df.duration.describe(percentiles=[0.95,0.98,0.99])"
   ]
  },
  {
   "cell_type": "markdown",
   "id": "836e24b7",
   "metadata": {},
   "source": [
    "#### **98% 56.000000 : Most of the trip (98%) duration is within an Hour**\n",
    "#### we should focus in that range only"
   ]
  },
  {
   "cell_type": "code",
   "execution_count": 96,
   "id": "73ee982a",
   "metadata": {},
   "outputs": [],
   "source": [
    "df = df[(df.duration >= 1.0) & (df.duration <= 60.0)]"
   ]
  },
  {
   "cell_type": "code",
   "execution_count": null,
   "id": "6c4a7130",
   "metadata": {},
   "outputs": [],
   "source": [
    "df"
   ]
  },
  {
   "cell_type": "code",
   "execution_count": null,
   "id": "27dee877",
   "metadata": {},
   "outputs": [],
   "source": [
    "df.duration.mean()"
   ]
  },
  {
   "cell_type": "code",
   "execution_count": null,
   "id": "cdae6dba",
   "metadata": {},
   "outputs": [],
   "source": [
    "sns.distplot(df.duration)"
   ]
  },
  {
   "cell_type": "code",
   "execution_count": null,
   "id": "ee2516a8",
   "metadata": {},
   "outputs": [],
   "source": [
    "df.isna().sum()"
   ]
  },
  {
   "cell_type": "code",
   "execution_count": 101,
   "id": "59fa032c",
   "metadata": {},
   "outputs": [],
   "source": [
    "df.drop(columns=['store_and_fwd_flag','RatecodeID','passenger_count','ehail_fee','payment_type','trip_type','congestion_surcharge'],inplace=True)"
   ]
  },
  {
   "cell_type": "code",
   "execution_count": null,
   "id": "4940f2e2",
   "metadata": {},
   "outputs": [],
   "source": [
    "df.isna().sum()"
   ]
  },
  {
   "cell_type": "code",
   "execution_count": null,
   "id": "0b744cc1",
   "metadata": {},
   "outputs": [],
   "source": [
    "df.head()"
   ]
  },
  {
   "cell_type": "code",
   "execution_count": 104,
   "id": "19b10170",
   "metadata": {},
   "outputs": [],
   "source": [
    "df = df.reset_index()"
   ]
  },
  {
   "cell_type": "code",
   "execution_count": 105,
   "id": "4342b501",
   "metadata": {},
   "outputs": [],
   "source": [
    "xvars = ['PULocationID','DOLocationID','trip_distance','fare_amount','extra','mta_tax','tip_amount','tolls_amount','improvement_surcharge','total_amount']\n",
    "yvars = ['duration']"
   ]
  },
  {
   "cell_type": "code",
   "execution_count": 106,
   "id": "99819d75",
   "metadata": {},
   "outputs": [],
   "source": [
    "Xtrain = df[xvars]\n",
    "ytrain = df[yvars]"
   ]
  },
  {
   "cell_type": "code",
   "execution_count": null,
   "id": "85c5fb8f",
   "metadata": {},
   "outputs": [],
   "source": [
    "Xtrain"
   ]
  },
  {
   "cell_type": "code",
   "execution_count": null,
   "id": "436b2cf0",
   "metadata": {},
   "outputs": [],
   "source": [
    "Xtrain.dtypes"
   ]
  },
  {
   "cell_type": "code",
   "execution_count": null,
   "id": "81c8adc0",
   "metadata": {},
   "outputs": [],
   "source": [
    "Xtrain.head()"
   ]
  },
  {
   "cell_type": "code",
   "execution_count": null,
   "id": "775fff21",
   "metadata": {},
   "outputs": [],
   "source": [
    "ytrain.head()"
   ]
  },
  {
   "cell_type": "code",
   "execution_count": 111,
   "id": "41a62b1c",
   "metadata": {},
   "outputs": [],
   "source": [
    "X_train, X_test, y_train, y_test = train_test_split(Xtrain, ytrain, test_size=0.2, random_state=42)"
   ]
  },
  {
   "cell_type": "markdown",
   "id": "6c1436d6",
   "metadata": {},
   "source": [
    "## CatBoost"
   ]
  },
  {
   "cell_type": "code",
   "execution_count": null,
   "id": "07df0eec",
   "metadata": {},
   "outputs": [],
   "source": [
    "from catboost import CatBoostRegressor"
   ]
  },
  {
   "cell_type": "code",
   "execution_count": 113,
   "id": "e81c8cdf",
   "metadata": {},
   "outputs": [],
   "source": [
    "from hyperopt.pyll import scope"
   ]
  },
  {
   "cell_type": "code",
   "execution_count": 114,
   "id": "eff6e2b2",
   "metadata": {},
   "outputs": [],
   "source": [
    "search_space = {'learning_rate': hp.uniform('learning_rate', 0.1, 0.5),\n",
    "                'iterations': hp.randint('iterations',100,1000),\n",
    "                'l2_leaf_reg': hp.randint('l2_leaf_reg',1,10),\n",
    "                'depth': hp.randint('depth',4,10),\n",
    "                'bootstrap_type' : hp.choice('bootstrap_type', ['Bayesian', 'Bernoulli'])}"
   ]
  },
  {
   "cell_type": "code",
   "execution_count": 115,
   "id": "c4368407",
   "metadata": {},
   "outputs": [],
   "source": [
    "def objective(params):\n",
    "        \n",
    "    model = CatBoostRegressor(**params,\n",
    "                            loss_function='RMSE',\n",
    "                            eval_metric='RMSE',\n",
    "                            early_stopping_rounds=100,\n",
    "                            random_seed=42)\n",
    "\n",
    "    model.fit(X = X_train, y = y_train, eval_set=(X_test,y_test), verbose=False)\n",
    "    \n",
    "    y_pred = model.predict(X_test)\n",
    "    rmse = RMSE(y_test, y_pred)\n",
    "        \n",
    "\n",
    "    return {'loss': rmse, 'status': STATUS_OK}"
   ]
  },
  {
   "cell_type": "markdown",
   "id": "cba644db",
   "metadata": {},
   "source": [
    "### 1. max_evals=50 means that Hyperopt will test 50 different sets of hyperparameters (not all combinations).\n",
    "### 2. Hyperopt uses the Tree of Parzen Estimators (TPE) algorithm (in your case, specified with algo=tpe.suggest) to suggest the next set of hyperparameters based on past results, rather than exhaustively trying all combinations."
   ]
  },
  {
   "cell_type": "code",
   "execution_count": null,
   "id": "fe6b87c6",
   "metadata": {},
   "outputs": [],
   "source": [
    "best_params = fmin(\n",
    "    fn=objective,\n",
    "    space=search_space,\n",
    "    algo=tpe.suggest,\n",
    "    max_evals=50,\n",
    "    trials=Trials()\n",
    ")"
   ]
  },
  {
   "cell_type": "code",
   "execution_count": null,
   "id": "393d0f91",
   "metadata": {},
   "outputs": [],
   "source": [
    "hyperparams = space_eval(search_space, best_params)\n"
   ]
  },
  {
   "cell_type": "code",
   "execution_count": null,
   "id": "ec04c6dc",
   "metadata": {},
   "outputs": [],
   "source": [
    "params = {'learning_rate' : hyperparams['learning_rate'],\n",
    "          'iterations' : hyperparams['iterations'],\n",
    "          'depth' : hyperparams['depth'],\n",
    "          'loss_function' : 'RMSE',\n",
    "          'l2_leaf_reg' : hyperparams['l2_leaf_reg'],\n",
    "          'eval_metric' : 'RMSE',\n",
    "          'early_stopping_rounds': 100,\n",
    "          'bootstrap_type' : hyperparams['bootstrap_type']}\n",
    "\n",
    "mlflow.xgboost.autolog()\n",
    "\n",
    "model = CatBoostRegressor(**params, random_seed=42)\n",
    "model.fit(X = X_train, y = y_train, eval_set=(X_test,y_test),verbose=250)\n"
   ]
  },
  {
   "cell_type": "code",
   "execution_count": null,
   "id": "6db1f4f3",
   "metadata": {},
   "outputs": [],
   "source": [
    "print('best RMSE', model.get_best_score()['validation']['RMSE'])"
   ]
  },
  {
   "cell_type": "code",
   "execution_count": null,
   "id": "2f949bfb",
   "metadata": {},
   "outputs": [],
   "source": [
    "from sklearn.metrics import r2_score"
   ]
  },
  {
   "cell_type": "code",
   "execution_count": null,
   "id": "2efcd27b",
   "metadata": {},
   "outputs": [],
   "source": [
    "logged_model = \n",
    "# Load model as a PyFuncModel.\n",
    "loaded_model = mlflow.pyfunc.load_model(logged_model)\n",
    "\n",
    "# Predict on a Pandas DataFrame.\n",
    "pred = loaded_model.predict(X_test)\n",
    "\n",
    "r2 = r2_score(y_test, pred)\n",
    "\n",
    "print(f\"R-squared: {r2}\")\n",
    "\n",
    "sns.distplot(y_test,kde=True,label='actual')\n",
    "sns.distplot(pred,kde=True,label='pred')\n",
    "plt.legend()"
   ]
  },
  {
   "cell_type": "code",
   "execution_count": null,
   "id": "82e92882",
   "metadata": {},
   "outputs": [],
   "source": []
  }
 ],
 "metadata": {
  "kernelspec": {
   "display_name": "Python 3",
   "language": "python",
   "name": "python3"
  },
  "language_info": {
   "codemirror_mode": {
    "name": "ipython",
    "version": 3
   },
   "file_extension": ".py",
   "mimetype": "text/x-python",
   "name": "python",
   "nbconvert_exporter": "python",
   "pygments_lexer": "ipython3",
   "version": "3.12.4"
  }
 },
 "nbformat": 4,
 "nbformat_minor": 5
}
