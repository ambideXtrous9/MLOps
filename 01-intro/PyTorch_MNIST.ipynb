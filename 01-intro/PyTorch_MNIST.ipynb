{
 "cells": [
  {
   "cell_type": "code",
   "execution_count": 137,
   "metadata": {
    "id": "USnfEhL-btD0"
   },
   "outputs": [],
   "source": [
    "import torch\n",
    "from torch import nn\n",
    "from tqdm import tqdm # for progressbar\n",
    "import torchvision\n",
    "from torchvision import transforms\n",
    "from torch.utils.data import DataLoader\n",
    "import numpy as np\n",
    "import matplotlib.pyplot as plt\n",
    "import torch.optim.lr_scheduler as lr_scheduler\n"
   ]
  },
  {
   "cell_type": "code",
   "execution_count": 138,
   "metadata": {
    "id": "spAzlL75bzvb"
   },
   "outputs": [],
   "source": [
    "class MNISTNeuralNet(nn.Module):\n",
    "    def __init__(self,config:dict):\n",
    "        super().__init__()\n",
    "\n",
    "        self.conv = nn.Sequential( #1x28x28\n",
    "            nn.Conv2d(in_channels=1,out_channels=8,kernel_size=5), # 8x24x24\n",
    "            nn.Dropout2d(p=0.4,inplace=True),\n",
    "            nn.LeakyReLU(negative_slope=0.02,inplace=True),\n",
    "            nn.BatchNorm2d(num_features=8),\n",
    "            nn.MaxPool2d(2), # 8x12x12\n",
    "            nn.Conv2d(in_channels=8,out_channels=32,kernel_size=3), # 32x10x10\n",
    "            nn.Dropout2d(p=0.4,inplace=True),\n",
    "            nn.LeakyReLU(negative_slope=0.02,inplace=True),\n",
    "            nn.BatchNorm2d(num_features=32),\n",
    "            nn.MaxPool2d(2), #32x5x5\n",
    "            nn.Conv2d(in_channels=32,out_channels=64,kernel_size=2), # 64x4x4\n",
    "            nn.Dropout2d(p=0.4,inplace=True),\n",
    "            nn.BatchNorm2d(64)\n",
    "            )\n",
    "\n",
    "        self.linear = nn.Sequential(\n",
    "            nn.Linear(in_features=64*4*4,out_features=512),\n",
    "            nn.LeakyReLU(negative_slope=0.02,inplace=True),\n",
    "            nn.BatchNorm1d(num_features=512),\n",
    "            nn.Dropout(p=0.4,inplace=True),\n",
    "            nn.Linear(in_features=512,out_features=config['num_classes']),\n",
    "            nn.Softmax(dim=1))\n",
    "\n",
    "    def forward(self,x):\n",
    "        x = self.conv(x)\n",
    "        x = x.view(x.size(0),-1)\n",
    "        x = self.linear(x)\n",
    "        return x\n"
   ]
  },
  {
   "cell_type": "code",
   "execution_count": 139,
   "metadata": {
    "id": "s_LgU2g5b33w"
   },
   "outputs": [],
   "source": [
    "config = {'num_classes' : 10}"
   ]
  },
  {
   "cell_type": "code",
   "execution_count": 140,
   "metadata": {
    "id": "TAKKGMxdb7l4"
   },
   "outputs": [],
   "source": [
    "model = MNISTNeuralNet(config=config)"
   ]
  },
  {
   "cell_type": "code",
   "execution_count": 141,
   "metadata": {
    "colab": {
     "base_uri": "https://localhost:8080/",
     "height": 186
    },
    "id": "TKyv8lfCb9Qr",
    "outputId": "6833203f-9c22-4c13-f208-f766fbc2e90a"
   },
   "outputs": [
    {
     "data": {
      "text/html": [
       "<div style=\"max-width:800px; border: 1px solid var(--colab-border-color);\"><style>\n",
       "      pre.function-repr-contents {\n",
       "        overflow-x: auto;\n",
       "        padding: 8px 12px;\n",
       "        max-height: 500px;\n",
       "      }\n",
       "\n",
       "      pre.function-repr-contents.function-repr-contents-collapsed {\n",
       "        cursor: pointer;\n",
       "        max-height: 100px;\n",
       "      }\n",
       "    </style>\n",
       "    <pre style=\"white-space: initial; background:\n",
       "         var(--colab-secondary-surface-color); padding: 8px 12px;\n",
       "         border-bottom: 1px solid var(--colab-border-color);\"><b>torch.nn.modules.module.Module.get_parameter</b><br/>def get_parameter(target: str) -&gt; &#x27;Parameter&#x27;</pre><pre class=\"function-repr-contents function-repr-contents-collapsed\" style=\"\"><a class=\"filepath\" style=\"display:none\" href=\"#\">/usr/local/lib/python3.10/dist-packages/torch/nn/modules/module.py</a>Return the parameter given by ``target`` if it exists, otherwise throw an error.\n",
       "\n",
       "See the docstring for ``get_submodule`` for a more detailed\n",
       "explanation of this method&#x27;s functionality as well as how to\n",
       "correctly specify ``target``.\n",
       "\n",
       "Args:\n",
       "    target: The fully-qualified string name of the Parameter\n",
       "        to look for. (See ``get_submodule`` for how to specify a\n",
       "        fully-qualified string.)\n",
       "\n",
       "Returns:\n",
       "    torch.nn.Parameter: The Parameter referenced by ``target``\n",
       "\n",
       "Raises:\n",
       "    AttributeError: If the target string references an invalid\n",
       "        path or resolves to something that is not an\n",
       "        ``nn.Parameter``</pre>\n",
       "      <script>\n",
       "      if (google.colab.kernel.accessAllowed && google.colab.files && google.colab.files.view) {\n",
       "        for (const element of document.querySelectorAll('.filepath')) {\n",
       "          element.style.display = 'block'\n",
       "          element.onclick = (event) => {\n",
       "            event.preventDefault();\n",
       "            event.stopPropagation();\n",
       "            google.colab.files.view(element.textContent, 692);\n",
       "          };\n",
       "        }\n",
       "      }\n",
       "      for (const element of document.querySelectorAll('.function-repr-contents')) {\n",
       "        element.onclick = (event) => {\n",
       "          event.preventDefault();\n",
       "          event.stopPropagation();\n",
       "          element.classList.toggle('function-repr-contents-collapsed');\n",
       "        };\n",
       "      }\n",
       "      </script>\n",
       "      </div>"
      ],
      "text/plain": [
       "<bound method Module.get_parameter of MNISTNeuralNet(\n",
       "  (conv): Sequential(\n",
       "    (0): Conv2d(1, 8, kernel_size=(5, 5), stride=(1, 1))\n",
       "    (1): Dropout2d(p=0.4, inplace=True)\n",
       "    (2): LeakyReLU(negative_slope=0.02, inplace=True)\n",
       "    (3): BatchNorm2d(8, eps=1e-05, momentum=0.1, affine=True, track_running_stats=True)\n",
       "    (4): MaxPool2d(kernel_size=2, stride=2, padding=0, dilation=1, ceil_mode=False)\n",
       "    (5): Conv2d(8, 32, kernel_size=(3, 3), stride=(1, 1))\n",
       "    (6): Dropout2d(p=0.4, inplace=True)\n",
       "    (7): LeakyReLU(negative_slope=0.02, inplace=True)\n",
       "    (8): BatchNorm2d(32, eps=1e-05, momentum=0.1, affine=True, track_running_stats=True)\n",
       "    (9): MaxPool2d(kernel_size=2, stride=2, padding=0, dilation=1, ceil_mode=False)\n",
       "    (10): Conv2d(32, 64, kernel_size=(2, 2), stride=(1, 1))\n",
       "    (11): Dropout2d(p=0.4, inplace=True)\n",
       "    (12): BatchNorm2d(64, eps=1e-05, momentum=0.1, affine=True, track_running_stats=True)\n",
       "  )\n",
       "  (linear): Sequential(\n",
       "    (0): Linear(in_features=1024, out_features=512, bias=True)\n",
       "    (1): LeakyReLU(negative_slope=0.02, inplace=True)\n",
       "    (2): BatchNorm1d(512, eps=1e-05, momentum=0.1, affine=True, track_running_stats=True)\n",
       "    (3): Dropout(p=0.4, inplace=True)\n",
       "    (4): Linear(in_features=512, out_features=10, bias=True)\n",
       "    (5): Softmax(dim=1)\n",
       "  )\n",
       ")>"
      ]
     },
     "execution_count": 141,
     "metadata": {},
     "output_type": "execute_result"
    }
   ],
   "source": [
    "model.get_parameter"
   ]
  },
  {
   "cell_type": "code",
   "execution_count": 142,
   "metadata": {
    "id": "jwdMHQt5b-en"
   },
   "outputs": [],
   "source": [
    "loss_fnc = nn.CrossEntropyLoss(reduction='mean')\n",
    "optimizer = torch.optim.AdamW(lr=0.01,params=model.parameters())\n",
    "\n",
    "scheduler = lr_scheduler.StepLR(optimizer, step_size=10, gamma=0.1)"
   ]
  },
  {
   "cell_type": "code",
   "execution_count": 144,
   "metadata": {
    "id": "1RjlCznlcJMR"
   },
   "outputs": [],
   "source": [
    "transform = transforms.Compose([transforms.ToTensor()])"
   ]
  },
  {
   "cell_type": "code",
   "execution_count": 145,
   "metadata": {
    "id": "GPs-8TIDcLQ2"
   },
   "outputs": [],
   "source": [
    "train = torchvision.datasets.MNIST(root='./',\n",
    "                                   download=True,\n",
    "                                   transform=transform,\n",
    "                                   train=True)\n",
    "\n",
    "test = torchvision.datasets.MNIST(root='./',\n",
    "                                   download=True,\n",
    "                                   transform=transform,\n",
    "                                   train=False)"
   ]
  },
  {
   "cell_type": "markdown",
   "metadata": {},
   "source": [
    "### **If BatchNorm2D is used, always use drop_last = True in DataLoader** "
   ]
  },
  {
   "cell_type": "code",
   "execution_count": 147,
   "metadata": {
    "id": "dKJiP3fNcO__"
   },
   "outputs": [],
   "source": [
    "train_dataloader = DataLoader(train,batch_size = 16,shuffle=True,drop_last=True)\n",
    "val_dataloader = DataLoader(test,batch_size = 16,shuffle=False,drop_last=True)"
   ]
  },
  {
   "cell_type": "markdown",
   "metadata": {},
   "source": [
    "### **To just check the model use**\n",
    "\n",
    "```\n",
    "with torch.no_grad():\n",
    "        model.eval()\n",
    "```"
   ]
  },
  {
   "cell_type": "code",
   "execution_count": 149,
   "metadata": {
    "colab": {
     "base_uri": "https://localhost:8080/",
     "height": 502
    },
    "id": "P7M_n8tfcSBX",
    "outputId": "c30321fb-7a38-40ef-d31e-83421e89993d"
   },
   "outputs": [
    {
     "name": "stdout",
     "output_type": "stream",
     "text": [
      "torch.Size([1, 28, 28])\n"
     ]
    },
    {
     "data": {
      "image/png": "[encoded data removed]",
      "text/plain": [
       "<Figure size 640x480 with 1 Axes>"
      ]
     },
     "metadata": {},
     "output_type": "display_data"
    },
    {
     "name": "stdout",
     "output_type": "stream",
     "text": [
      "Pred Prob = 0.10586286336183548 || Pred Elem = 0\n",
      "Loss = 2.303502082824707\n"
     ]
    }
   ],
   "source": [
    "for i,(data,target) in enumerate(train_dataloader):\n",
    "    with torch.no_grad():\n",
    "        model.eval()\n",
    "        print(data[0].shape)\n",
    "        plt.imshow(data[0].permute(1, 2, 0))\n",
    "        plt.show()\n",
    "        pred = model(data[0].unsqueeze(0))\n",
    "        prob,idx = torch.max(pred,dim=1)\n",
    "        print(f\"Pred Prob = {prob[0]} || Pred Elem = {idx[0]}\")\n",
    "\n",
    "        loss = loss_fnc(pred,target[0].unsqueeze(0))\n",
    "\n",
    "        print(f\"Loss = {loss}\")\n",
    "\n",
    "    break"
   ]
  },
  {
   "cell_type": "code",
   "execution_count": 150,
   "metadata": {
    "colab": {
     "base_uri": "https://localhost:8080/"
    },
    "id": "OB1hYtugcTQU",
    "outputId": "b1316392-311f-4ec6-9c34-016b8f39aa2b"
   },
   "outputs": [
    {
     "name": "stdout",
     "output_type": "stream",
     "text": [
      "cuda\n"
     ]
    }
   ],
   "source": [
    "device = torch.device(\"cuda\" if torch.cuda.is_available() else \"cpu\")\n",
    "print(device)"
   ]
  },
  {
   "cell_type": "code",
   "execution_count": 151,
   "metadata": {
    "colab": {
     "base_uri": "https://localhost:8080/"
    },
    "id": "80DAHbWycW9H",
    "outputId": "979e920a-a852-43a3-c57b-448123d53237"
   },
   "outputs": [
    {
     "data": {
      "text/plain": [
       "3750"
      ]
     },
     "execution_count": 151,
     "metadata": {},
     "output_type": "execute_result"
    }
   ],
   "source": [
    "len(train_dataloader)"
   ]
  },
  {
   "cell_type": "code",
   "execution_count": 152,
   "metadata": {
    "colab": {
     "base_uri": "https://localhost:8080/"
    },
    "id": "s6w4BpWTcYns",
    "outputId": "71cfdda9-1ce5-4d27-d73e-b3e3d65ff445"
   },
   "outputs": [
    {
     "data": {
      "text/plain": [
       "MNISTNeuralNet(\n",
       "  (conv): Sequential(\n",
       "    (0): Conv2d(1, 8, kernel_size=(5, 5), stride=(1, 1))\n",
       "    (1): Dropout2d(p=0.4, inplace=True)\n",
       "    (2): LeakyReLU(negative_slope=0.02, inplace=True)\n",
       "    (3): BatchNorm2d(8, eps=1e-05, momentum=0.1, affine=True, track_running_stats=True)\n",
       "    (4): MaxPool2d(kernel_size=2, stride=2, padding=0, dilation=1, ceil_mode=False)\n",
       "    (5): Conv2d(8, 32, kernel_size=(3, 3), stride=(1, 1))\n",
       "    (6): Dropout2d(p=0.4, inplace=True)\n",
       "    (7): LeakyReLU(negative_slope=0.02, inplace=True)\n",
       "    (8): BatchNorm2d(32, eps=1e-05, momentum=0.1, affine=True, track_running_stats=True)\n",
       "    (9): MaxPool2d(kernel_size=2, stride=2, padding=0, dilation=1, ceil_mode=False)\n",
       "    (10): Conv2d(32, 64, kernel_size=(2, 2), stride=(1, 1))\n",
       "    (11): Dropout2d(p=0.4, inplace=True)\n",
       "    (12): BatchNorm2d(64, eps=1e-05, momentum=0.1, affine=True, track_running_stats=True)\n",
       "  )\n",
       "  (linear): Sequential(\n",
       "    (0): Linear(in_features=1024, out_features=512, bias=True)\n",
       "    (1): LeakyReLU(negative_slope=0.02, inplace=True)\n",
       "    (2): BatchNorm1d(512, eps=1e-05, momentum=0.1, affine=True, track_running_stats=True)\n",
       "    (3): Dropout(p=0.4, inplace=True)\n",
       "    (4): Linear(in_features=512, out_features=10, bias=True)\n",
       "    (5): Softmax(dim=1)\n",
       "  )\n",
       ")"
      ]
     },
     "execution_count": 152,
     "metadata": {},
     "output_type": "execute_result"
    }
   ],
   "source": [
    "model.to(device)"
   ]
  },
  {
   "cell_type": "markdown",
   "metadata": {},
   "source": [
    "### **To see the progress bar, add tqdm library**"
   ]
  },
  {
   "cell_type": "code",
   "execution_count": 154,
   "metadata": {
    "id": "m_xqad2zcaMw"
   },
   "outputs": [],
   "source": [
    "def trainFunc(epoch):\n",
    "    model.train()\n",
    "    epoch_loss = 0\n",
    "    total_correct = 0\n",
    "\n",
    "    for batch_idx,(data,target) in enumerate(tqdm(train_dataloader)):\n",
    "        (data,target) = (data.to(device),target.to(device))\n",
    "\n",
    "        optimizer.zero_grad()\n",
    "\n",
    "        pred = model(data)\n",
    "        loss = loss_fnc(pred,target)\n",
    "\n",
    "        loss.backward()\n",
    "        optimizer.step()\n",
    "\n",
    "        epoch_loss = epoch_loss + (loss.item()*target.shape[0])\n",
    "        _,output = torch.max(pred,dim=1)\n",
    "        total_correct = total_correct + (output==target).sum().item()\n",
    "\n",
    "\n",
    "\n",
    "    epoch_loss = epoch_loss / len(train_dataloader.dataset)\n",
    "    total_correct = total_correct / len(train_dataloader.dataset)\n",
    "\n",
    "    print(f\"Epoch = {epoch} || Train Loss = {epoch_loss} || Train Accuracy = {total_correct}\")\n",
    "    return epoch_loss,total_correct"
   ]
  },
  {
   "cell_type": "markdown",
   "metadata": {},
   "source": [
    "### **In inference time, always use**\n",
    "\n",
    "```\n",
    "with torch.no_grad():\n",
    "  model.eval()\n",
    "```"
   ]
  },
  {
   "cell_type": "code",
   "execution_count": 155,
   "metadata": {
    "id": "iiQxJe65cfUO"
   },
   "outputs": [],
   "source": [
    "def valFunc(epoch):\n",
    "    model.eval()\n",
    "    epoch_loss = 0\n",
    "    total_correct = 0\n",
    "    with torch.no_grad():\n",
    "        for batch_idx,(data,target) in enumerate(tqdm(val_dataloader)):\n",
    "            (data,target) = (data.to(device),target.to(device))\n",
    "\n",
    "            pred = model(data)\n",
    "            loss = loss_fnc(pred,target)\n",
    "\n",
    "            epoch_loss = epoch_loss + (loss.item()*target.shape[0])\n",
    "            _,output = torch.max(pred,dim=1)\n",
    "            total_correct = total_correct + (output==target).sum().item()\n",
    "\n",
    "    epoch_loss = epoch_loss / len(val_dataloader.dataset)\n",
    "    total_correct = total_correct / len(val_dataloader.dataset)\n",
    "\n",
    "    print(f\"Epoch = {epoch} || Val Loss = {epoch_loss} || Val Accuracy = {total_correct}\")\n",
    "    return epoch_loss,total_correct"
   ]
  },
  {
   "cell_type": "code",
   "execution_count": 157,
   "metadata": {
    "id": "SqG8xKTajQuv"
   },
   "outputs": [],
   "source": [
    "def trainer(epochs):\n",
    "    Train_loss = []\n",
    "    Train_accuracy = []\n",
    "    Val_loss = []\n",
    "    Val_accuracy = []\n",
    "\n",
    "    for i in range(1,epochs+1):\n",
    "        TL,TA = trainFunc(i)\n",
    "        Train_loss.append(TL)\n",
    "        Train_accuracy.append(TA)\n",
    "        VL,VA = valFunc(i)\n",
    "        Val_loss.append(VL)\n",
    "        Val_accuracy.append(VA)\n",
    "        print(\"\\n---------------------------------------------------\\n\")\n",
    "\n",
    "    xx = np.arange(epochs)\n",
    "    plt.style.use(\"fivethirtyeight\")\n",
    "\n",
    "    acctr = torch.Tensor(Train_accuracy).detach().cpu().numpy()\n",
    "    lsstr = torch.Tensor(Train_loss).detach().cpu().numpy()\n",
    "    accte = torch.Tensor(Val_accuracy).detach().cpu().numpy()\n",
    "    lsste = torch.Tensor(Val_loss).detach().cpu().numpy()\n",
    "\n",
    "    fig, (ax1, ax2) = plt.subplots(1, 2,figsize=(12,6))\n",
    "    fig.suptitle('ACC vs LOSS')\n",
    "    ax1.plot(xx, acctr,label='Train')\n",
    "    ax1.plot(xx,accte,label='Val')\n",
    "    ax1.legend(loc=\"best\")\n",
    "    ax2.plot(xx, lsstr,label='Train')\n",
    "    ax2.plot(xx, lsste,label='Val')\n",
    "    ax2.legend(loc=\"best\")\n",
    "    plt.show()\n",
    "\n"
   ]
  },
  {
   "cell_type": "code",
   "execution_count": null,
   "metadata": {
    "colab": {
     "base_uri": "https://localhost:8080/"
    },
    "id": "JXElq2Gujek9",
    "outputId": "2cc41b0c-5860-41a8-8ee0-64725c44c99d"
   },
   "outputs": [
    {
     "name": "stderr",
     "output_type": "stream",
     "text": [
      "100%|██████████| 3750/3750 [00:22<00:00, 163.81it/s]\n"
     ]
    },
    {
     "name": "stdout",
     "output_type": "stream",
     "text": [
      "Epoch = 1 || Train Loss = 1.5910031572024028 || Train Accuracy = 0.8774333333333333\n"
     ]
    },
    {
     "name": "stderr",
     "output_type": "stream",
     "text": [
      "100%|██████████| 625/625 [00:01<00:00, 342.18it/s]\n"
     ]
    },
    {
     "name": "stdout",
     "output_type": "stream",
     "text": [
      "Epoch = 1 || Val Loss = 1.4946909334182739 || Val Accuracy = 0.967\n",
      "\n",
      "---------------------------------------------------\n",
      "\n"
     ]
    },
    {
     "name": "stderr",
     "output_type": "stream",
     "text": [
      "100%|██████████| 3750/3750 [00:21<00:00, 170.53it/s]\n"
     ]
    },
    {
     "name": "stdout",
     "output_type": "stream",
     "text": [
      "Epoch = 2 || Train Loss = 1.5366194093704224 || Train Accuracy = 0.9267333333333333\n"
     ]
    },
    {
     "name": "stderr",
     "output_type": "stream",
     "text": [
      "100%|██████████| 625/625 [00:01<00:00, 342.27it/s]\n"
     ]
    },
    {
     "name": "stdout",
     "output_type": "stream",
     "text": [
      "Epoch = 2 || Val Loss = 1.4852806024551393 || Val Accuracy = 0.977\n",
      "\n",
      "---------------------------------------------------\n",
      "\n"
     ]
    },
    {
     "name": "stderr",
     "output_type": "stream",
     "text": [
      "100%|██████████| 3750/3750 [00:22<00:00, 166.26it/s]\n"
     ]
    },
    {
     "name": "stdout",
     "output_type": "stream",
     "text": [
      "Epoch = 3 || Train Loss = 1.5276788925806681 || Train Accuracy = 0.9346333333333333\n"
     ]
    },
    {
     "name": "stderr",
     "output_type": "stream",
     "text": [
      "100%|██████████| 625/625 [00:01<00:00, 334.60it/s]\n"
     ]
    },
    {
     "name": "stdout",
     "output_type": "stream",
     "text": [
      "Epoch = 3 || Val Loss = 1.4837564975738526 || Val Accuracy = 0.9786\n",
      "\n",
      "---------------------------------------------------\n",
      "\n"
     ]
    },
    {
     "name": "stderr",
     "output_type": "stream",
     "text": [
      "100%|██████████| 3750/3750 [00:22<00:00, 170.04it/s]\n"
     ]
    },
    {
     "name": "stdout",
     "output_type": "stream",
     "text": [
      "Epoch = 4 || Train Loss = 1.522307399336497 || Train Accuracy = 0.9396\n"
     ]
    },
    {
     "name": "stderr",
     "output_type": "stream",
     "text": [
      "100%|██████████| 625/625 [00:01<00:00, 333.46it/s]\n"
     ]
    },
    {
     "name": "stdout",
     "output_type": "stream",
     "text": [
      "Epoch = 4 || Val Loss = 1.4806860067367553 || Val Accuracy = 0.9807\n",
      "\n",
      "---------------------------------------------------\n",
      "\n"
     ]
    },
    {
     "name": "stderr",
     "output_type": "stream",
     "text": [
      "100%|██████████| 3750/3750 [00:22<00:00, 169.49it/s]\n"
     ]
    },
    {
     "name": "stdout",
     "output_type": "stream",
     "text": [
      "Epoch = 5 || Train Loss = 1.51967762854894 || Train Accuracy = 0.9417\n"
     ]
    },
    {
     "name": "stderr",
     "output_type": "stream",
     "text": [
      "100%|██████████| 625/625 [00:01<00:00, 337.45it/s]\n"
     ]
    },
    {
     "name": "stdout",
     "output_type": "stream",
     "text": [
      "Epoch = 5 || Val Loss = 1.4790981576919555 || Val Accuracy = 0.9822\n",
      "\n",
      "---------------------------------------------------\n",
      "\n"
     ]
    },
    {
     "name": "stderr",
     "output_type": "stream",
     "text": [
      "100%|██████████| 3750/3750 [00:21<00:00, 170.64it/s]\n"
     ]
    },
    {
     "name": "stdout",
     "output_type": "stream",
     "text": [
      "Epoch = 6 || Train Loss = 1.5163879453023275 || Train Accuracy = 0.9454333333333333\n"
     ]
    },
    {
     "name": "stderr",
     "output_type": "stream",
     "text": [
      "100%|██████████| 625/625 [00:01<00:00, 342.48it/s]\n"
     ]
    },
    {
     "name": "stdout",
     "output_type": "stream",
     "text": [
      "Epoch = 6 || Val Loss = 1.48014693069458 || Val Accuracy = 0.9814\n",
      "\n",
      "---------------------------------------------------\n",
      "\n"
     ]
    },
    {
     "name": "stderr",
     "output_type": "stream",
     "text": [
      "100%|██████████| 3750/3750 [00:21<00:00, 171.40it/s]\n"
     ]
    },
    {
     "name": "stdout",
     "output_type": "stream",
     "text": [
      "Epoch = 7 || Train Loss = 1.5133341682751973 || Train Accuracy = 0.9481166666666667\n"
     ]
    },
    {
     "name": "stderr",
     "output_type": "stream",
     "text": [
      "100%|██████████| 625/625 [00:01<00:00, 335.51it/s]\n"
     ]
    },
    {
     "name": "stdout",
     "output_type": "stream",
     "text": [
      "Epoch = 7 || Val Loss = 1.4775344638824464 || Val Accuracy = 0.984\n",
      "\n",
      "---------------------------------------------------\n",
      "\n"
     ]
    },
    {
     "name": "stderr",
     "output_type": "stream",
     "text": [
      "100%|██████████| 3750/3750 [00:22<00:00, 170.40it/s]\n"
     ]
    },
    {
     "name": "stdout",
     "output_type": "stream",
     "text": [
      "Epoch = 8 || Train Loss = 1.5122069012006123 || Train Accuracy = 0.94945\n"
     ]
    },
    {
     "name": "stderr",
     "output_type": "stream",
     "text": [
      "100%|██████████| 625/625 [00:01<00:00, 342.50it/s]\n"
     ]
    },
    {
     "name": "stdout",
     "output_type": "stream",
     "text": [
      "Epoch = 8 || Val Loss = 1.4769498208999634 || Val Accuracy = 0.9847\n",
      "\n",
      "---------------------------------------------------\n",
      "\n"
     ]
    },
    {
     "name": "stderr",
     "output_type": "stream",
     "text": [
      "100%|██████████| 3750/3750 [00:21<00:00, 170.58it/s]\n"
     ]
    },
    {
     "name": "stdout",
     "output_type": "stream",
     "text": [
      "Epoch = 9 || Train Loss = 1.510177134068807 || Train Accuracy = 0.9514\n"
     ]
    },
    {
     "name": "stderr",
     "output_type": "stream",
     "text": [
      "100%|██████████| 625/625 [00:01<00:00, 336.68it/s]\n"
     ]
    },
    {
     "name": "stdout",
     "output_type": "stream",
     "text": [
      "Epoch = 9 || Val Loss = 1.4787980827331544 || Val Accuracy = 0.9822\n",
      "\n",
      "---------------------------------------------------\n",
      "\n"
     ]
    },
    {
     "name": "stderr",
     "output_type": "stream",
     "text": [
      "100%|██████████| 3750/3750 [00:22<00:00, 170.44it/s]\n"
     ]
    },
    {
     "name": "stdout",
     "output_type": "stream",
     "text": [
      "Epoch = 10 || Train Loss = 1.5106599644978842 || Train Accuracy = 0.9509\n"
     ]
    },
    {
     "name": "stderr",
     "output_type": "stream",
     "text": [
      "100%|██████████| 625/625 [00:01<00:00, 334.54it/s]\n"
     ]
    },
    {
     "name": "stdout",
     "output_type": "stream",
     "text": [
      "Epoch = 10 || Val Loss = 1.4759995294570922 || Val Accuracy = 0.985\n",
      "\n",
      "---------------------------------------------------\n",
      "\n"
     ]
    },
    {
     "name": "stderr",
     "output_type": "stream",
     "text": [
      "100%|██████████| 3750/3750 [00:21<00:00, 171.33it/s]\n"
     ]
    },
    {
     "name": "stdout",
     "output_type": "stream",
     "text": [
      "Epoch = 11 || Train Loss = 1.5063037643114725 || Train Accuracy = 0.95525\n"
     ]
    },
    {
     "name": "stderr",
     "output_type": "stream",
     "text": [
      "100%|██████████| 625/625 [00:01<00:00, 329.55it/s]\n"
     ]
    },
    {
     "name": "stdout",
     "output_type": "stream",
     "text": [
      "Epoch = 11 || Val Loss = 1.4758477369308471 || Val Accuracy = 0.9854\n",
      "\n",
      "---------------------------------------------------\n",
      "\n"
     ]
    },
    {
     "name": "stderr",
     "output_type": "stream",
     "text": [
      "100%|██████████| 3750/3750 [00:22<00:00, 169.88it/s]\n"
     ]
    },
    {
     "name": "stdout",
     "output_type": "stream",
     "text": [
      "Epoch = 12 || Train Loss = 1.5069963938713073 || Train Accuracy = 0.9541833333333334\n"
     ]
    },
    {
     "name": "stderr",
     "output_type": "stream",
     "text": [
      "100%|██████████| 625/625 [00:01<00:00, 328.03it/s]\n"
     ]
    },
    {
     "name": "stdout",
     "output_type": "stream",
     "text": [
      "Epoch = 12 || Val Loss = 1.4751623807907104 || Val Accuracy = 0.9869\n",
      "\n",
      "---------------------------------------------------\n",
      "\n"
     ]
    },
    {
     "name": "stderr",
     "output_type": "stream",
     "text": [
      " 17%|█▋        | 645/3750 [00:04<00:17, 181.55it/s]"
     ]
    }
   ],
   "source": [
    "trainer(epochs=50)"
   ]
  },
  {
   "cell_type": "markdown",
   "metadata": {},
   "source": [
    "### **To Select single element Randomly, add shuffle = True**"
   ]
  },
  {
   "cell_type": "code",
   "execution_count": null,
   "metadata": {
    "id": "4CR1KLFYtehM"
   },
   "outputs": [],
   "source": [
    "val_dataloader = DataLoader(test,batch_size = 16,shuffle=True)"
   ]
  },
  {
   "cell_type": "code",
   "execution_count": null,
   "metadata": {
    "id": "NWWTVItDjjSW"
   },
   "outputs": [],
   "source": [
    "data = next(iter(val_dataloader))[0]\n",
    "with torch.no_grad():\n",
    "  model.eval()\n",
    "  print(data[0].shape)\n",
    "  plt.imshow(data[0].permute(1, 2, 0))\n",
    "  plt.show()\n",
    "  pred = model(data[0].unsqueeze(0).to(device))\n",
    "  prob,idx = torch.max(pred,dim=1)\n",
    "  print(f\"Pred Prob = {prob[0]} || Pred Elem = {idx[0]}\")"
   ]
  },
  {
   "cell_type": "code",
   "execution_count": null,
   "metadata": {
    "id": "JoFjOvWhtLwT"
   },
   "outputs": [],
   "source": []
  }
 ],
 "metadata": {
  "accelerator": "GPU",
  "colab": {
   "gpuType": "T4",
   "provenance": []
  },
  "kernelspec": {
   "display_name": "Python 3 (ipykernel)",
   "language": "python",
   "name": "python3"
  },
  "language_info": {
   "codemirror_mode": {
    "name": "ipython",
    "version": 3
   },
   "file_extension": ".py",
   "mimetype": "text/x-python",
   "name": "python",
   "nbconvert_exporter": "python",
   "pygments_lexer": "ipython3",
   "version": "3.12.4"
  }
 },
 "nbformat": 4,
 "nbformat_minor": 4
}
