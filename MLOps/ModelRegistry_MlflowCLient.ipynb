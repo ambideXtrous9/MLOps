{
 "cells": [
  {
   "cell_type": "code",
   "execution_count": 1,
   "metadata": {},
   "outputs": [],
   "source": [
    "import mlflow"
   ]
  },
  {
   "cell_type": "code",
   "execution_count": 4,
   "metadata": {},
   "outputs": [],
   "source": [
    "from mlflow import MlflowClient"
   ]
  },
  {
   "cell_type": "code",
   "execution_count": 6,
   "metadata": {},
   "outputs": [],
   "source": [
    "client = MlflowClient(tracking_uri=\"http://127.0.0.1:5000\")"
   ]
  },
  {
   "cell_type": "code",
   "execution_count": 7,
   "metadata": {},
   "outputs": [
    {
     "name": "stdout",
     "output_type": "stream",
     "text": [
      "[<Experiment: artifact_location='/workspaces/MLOps/01-intro/mlruns/3', creation_time=1728050588669, experiment_id='3', last_update_time=1728050588669, lifecycle_stage='active', name='NYC-Taxi-Regressor', tags={}>, <Experiment: artifact_location='mlflow-artifacts:/0', creation_time=1727863982950, experiment_id='0', last_update_time=1727863982950, lifecycle_stage='active', name='Default', tags={}>]\n"
     ]
    }
   ],
   "source": [
    "all_experiments = client.search_experiments()\n",
    "\n",
    "print(all_experiments)"
   ]
  },
  {
   "cell_type": "code",
   "execution_count": 23,
   "metadata": {},
   "outputs": [],
   "source": [
    "from mlflow.entities import ViewType\n",
    "\n",
    "runs = client.search_runs(\n",
    "    experiment_ids= \"3\",\n",
    "    filter_string=\"\",\n",
    "    run_view_type=ViewType.ACTIVE_ONLY,\n",
    "    max_results=3,\n",
    "    order_by=[\"metrics.rmse ASC\"]\n",
    ")"
   ]
  },
  {
   "cell_type": "code",
   "execution_count": 24,
   "metadata": {},
   "outputs": [
    {
     "data": {
      "text/plain": [
       "<RunData: metrics={'rmse': 18.33542862192436}, params={'bootstrap_type': 'Bernoulli',\n",
       " 'depth': '8',\n",
       " 'early_stopping_rounds': '100',\n",
       " 'eval_metric': 'RMSE',\n",
       " 'iterations': '631',\n",
       " 'l2_leaf_reg': '7',\n",
       " 'learning_rate': '0.2194813656713647',\n",
       " 'loss_function': 'RMSE'}, tags={'mlflow.log-model.history': '[{\"run_id\": \"1e40c7e0866c4012901bbc81fd564e8c\", '\n",
       "                             '\"artifact_path\": \"models_mlflow\", '\n",
       "                             '\"utc_time_created\": \"2024-10-04 '\n",
       "                             '16:17:23.388746\", \"model_uuid\": '\n",
       "                             '\"48b0942132564a18bd429b670ede63b0\", \"flavors\": '\n",
       "                             '{\"python_function\": {\"loader_module\": '\n",
       "                             '\"mlflow.catboost\", \"python_version\": \"3.12.4\", '\n",
       "                             '\"data\": \"model.cb\", \"env\": {\"conda\": '\n",
       "                             '\"conda.yaml\", \"virtualenv\": \"python_env.yaml\"}}, '\n",
       "                             '\"catboost\": {\"catboost_version\": \"1.2.7\", '\n",
       "                             '\"code\": null, \"model_type\": \"CatBoostRegressor\", '\n",
       "                             '\"save_format\": \"cbm\", \"data\": \"model.cb\"}}}]',\n",
       " 'mlflow.runName': 'puzzled-elk-733',\n",
       " 'mlflow.source.name': '/home/codespace/.local/lib/python3.12/site-packages/ipykernel_launcher.py',\n",
       " 'mlflow.source.type': 'LOCAL',\n",
       " 'mlflow.user': 'codespace'}>"
      ]
     },
     "execution_count": 24,
     "metadata": {},
     "output_type": "execute_result"
    }
   ],
   "source": [
    "runs[0].data"
   ]
  },
  {
   "cell_type": "code",
   "execution_count": 26,
   "metadata": {},
   "outputs": [
    {
     "name": "stdout",
     "output_type": "stream",
     "text": [
      "run id: 1e40c7e0866c4012901bbc81fd564e8c, rmse: 18.33542862192436\n",
      "run id: 4238514fde034ece81b6855a21e122e2, rmse: 18.33542862192436\n",
      "run id: 2cd45b7cc3b7475ca3c0b4d279a3af66, rmse: 18.403313330771905\n"
     ]
    }
   ],
   "source": [
    "for run in runs:\n",
    "    print(f\"run id: {run.info.run_id}, rmse: {run.data.metrics['rmse']}\")"
   ]
  },
  {
   "cell_type": "code",
   "execution_count": 27,
   "metadata": {},
   "outputs": [],
   "source": [
    "RUN_ID = \"1e40c7e0866c4012901bbc81fd564e8c\"\n",
    "MODEL_URI = f\"runs:/{RUN_ID}/model\""
   ]
  },
  {
   "cell_type": "markdown",
   "metadata": {},
   "source": [
    "## But first let's ensure that the run has not been registered:\n"
   ]
  },
  {
   "cell_type": "code",
   "execution_count": 28,
   "metadata": {},
   "outputs": [
    {
     "ename": "AssertionError",
     "evalue": "Run has been registered!",
     "output_type": "error",
     "traceback": [
      "\u001b[0;31m---------------------------------------------------------------------------\u001b[0m",
      "\u001b[0;31mAssertionError\u001b[0m                            Traceback (most recent call last)",
      "Cell \u001b[0;32mIn[28], line 1\u001b[0m\n\u001b[0;32m----> 1\u001b[0m \u001b[38;5;28;01massert\u001b[39;00m client\u001b[38;5;241m.\u001b[39msearch_model_versions(\u001b[38;5;124mf\u001b[39m\u001b[38;5;124m\"\u001b[39m\u001b[38;5;124mrun_id = \u001b[39m\u001b[38;5;124m'\u001b[39m\u001b[38;5;132;01m{\u001b[39;00mRUN_ID\u001b[38;5;132;01m}\u001b[39;00m\u001b[38;5;124m'\u001b[39m\u001b[38;5;124m\"\u001b[39m) \u001b[38;5;241m==\u001b[39m [], \u001b[38;5;124m\"\u001b[39m\u001b[38;5;124mRun has been registered!\u001b[39m\u001b[38;5;124m\"\u001b[39m\n",
      "\u001b[0;31mAssertionError\u001b[0m: Run has been registered!"
     ]
    }
   ],
   "source": [
    "assert client.search_model_versions(f\"run_id = '{RUN_ID}'\") == [], \"Run has been registered!\""
   ]
  },
  {
   "cell_type": "code",
   "execution_count": null,
   "metadata": {},
   "outputs": [],
   "source": [
    "mlflow.register_model(model_uri = MODEL_URI, name=\"nyctaxi_tripduration_regressor\")"
   ]
  },
  {
   "cell_type": "code",
   "execution_count": 30,
   "metadata": {},
   "outputs": [
    {
     "name": "stderr",
     "output_type": "stream",
     "text": [
      "/tmp/ipykernel_52894/3905537006.py:2: FutureWarning: ``mlflow.tracking.client.MlflowClient.get_latest_versions`` is deprecated since 2.9.0. Model registry stages will be removed in a future major release. To learn more about the deprecation of model registry stages, see our migration guide here: https://mlflow.org/docs/latest/model-registry.html#migrating-from-stages\n",
      "  latest_versions = client.get_latest_versions(name=model_name)\n"
     ]
    }
   ],
   "source": [
    "model_name = \"NYC-Taxi-Regressor\"\n",
    "latest_versions = client.get_latest_versions(name=model_name)"
   ]
  },
  {
   "cell_type": "code",
   "execution_count": 31,
   "metadata": {},
   "outputs": [
    {
     "data": {
      "text/plain": [
       "[<ModelVersion: aliases=[], creation_timestamp=1728058774867, current_stage='Staging', description='CatBoost', last_updated_timestamp=1728059189899, name='NYC-Taxi-Regressor', run_id='1e40c7e0866c4012901bbc81fd564e8c', run_link='', source='/workspaces/MLOps/01-intro/mlruns/3/1e40c7e0866c4012901bbc81fd564e8c/artifacts/models_mlflow', status='READY', status_message='', tags={}, user_id='', version='1'>,\n",
       " <ModelVersion: aliases=[], creation_timestamp=1728058797615, current_stage='Production', description='XGBoost', last_updated_timestamp=1728059178331, name='NYC-Taxi-Regressor', run_id='324ff1de07134881b72dd65c29344d84', run_link='', source='/workspaces/MLOps/01-intro/mlruns/3/324ff1de07134881b72dd65c29344d84/artifacts/model', status='READY', status_message='', tags={}, user_id='', version='2'>]"
      ]
     },
     "execution_count": 31,
     "metadata": {},
     "output_type": "execute_result"
    }
   ],
   "source": [
    "latest_versions"
   ]
  },
  {
   "cell_type": "code",
   "execution_count": 33,
   "metadata": {},
   "outputs": [
    {
     "name": "stdout",
     "output_type": "stream",
     "text": [
      "Version: 1, Stage: Staging, Model: CatBoost\n",
      "Version: 2, Stage: Production, Model: XGBoost\n"
     ]
    }
   ],
   "source": [
    "for version in latest_versions:\n",
    "        print(f\"Version: {version.version}, Stage: {version.current_stage}, Model: {version.description}\")"
   ]
  },
  {
   "cell_type": "code",
   "execution_count": null,
   "metadata": {},
   "outputs": [],
   "source": [
    "stage = \"Staging\"\n",
    "\n",
    "version = 2\n",
    "\n",
    "client.transition_model_version_stage(\n",
    "    name = model_name,\n",
    "    version = version,\n",
    "    stage = stage,\n",
    "    archive_existing_versions = False\n",
    ")"
   ]
  },
  {
   "cell_type": "code",
   "execution_count": null,
   "metadata": {},
   "outputs": [
    {
     "name": "stderr",
     "output_type": "stream",
     "text": [
      "Successfully registered model 'nyctaxi_tripduration_regressor'.\n",
      "2024/10/05 09:07:00 INFO mlflow.store.model_registry.abstract_store: Waiting up to 300 seconds for model version to finish creation. Model name: nyctaxi_tripduration_regressor, version 1\n",
      "Created version '1' of model 'nyctaxi_tripduration_regressor'.\n"
     ]
    },
    {
     "data": {
      "text/plain": [
       "<ModelVersion: aliases=[], creation_timestamp=1728119220068, current_stage='None', description='', last_updated_timestamp=1728119220068, name='nyctaxi_tripduration_regressor', run_id='730586bbc7324f41bfd66cfd2b069517', run_link='', source='gs://mlflow-bucket-susu/1/730586bbc7324f41bfd66cfd2b069517/artifacts/model', status='READY', status_message='', tags={}, user_id='', version='1'>"
      ]
     },
     "metadata": {},
     "output_type": "display_data"
    }
   ],
   "source": [
    "mlflow.register_model(model_uri = MODEL_URI, name=\"nyctaxi_tripduration_regressor\")"
   ]
  },
  {
   "cell_type": "code",
   "execution_count": null,
   "metadata": {},
   "outputs": [
    {
     "name": "stderr",
     "output_type": "stream",
     "text": [
      "Registered model 'nyctaxi_tripduration_regressor' already exists. Creating a new version of this model...\n",
      "2024/10/05 09:10:02 INFO mlflow.store.model_registry.abstract_store: Waiting up to 300 seconds for model version to finish creation. Model name: nyctaxi_tripduration_regressor, version 2\n",
      "Created version '2' of model 'nyctaxi_tripduration_regressor'.\n"
     ]
    },
    {
     "data": {
      "text/plain": [
       "<ModelVersion: aliases=[], creation_timestamp=1728119401861, current_stage='None', description='', last_updated_timestamp=1728119401861, name='nyctaxi_tripduration_regressor', run_id='b6ac39fd37a54b11a8394ea99caf5e14', run_link='', source='gs://mlflow-bucket-susu/1/b6ac39fd37a54b11a8394ea99caf5e14/artifacts/model', status='READY', status_message='', tags={}, user_id='', version='2'>"
      ]
     },
     "metadata": {},
     "output_type": "display_data"
    }
   ],
   "source": [
    "RUN_ID = \"b6ac39fd37a54b11a8394ea99caf5e14\"\n",
    "MODEL_URI = f\"runs:/{RUN_ID}/model\"\n",
    "assert client.search_model_versions(f\"run_id = '{RUN_ID}'\") == [], \"Run has been registered!\"\n",
    "mlflow.register_model(model_uri = MODEL_URI, name=\"nyctaxi_tripduration_regressor\")"
   ]
  },
  {
   "cell_type": "code",
   "execution_count": null,
   "metadata": {},
   "outputs": [
    {
     "name": "stdout",
     "output_type": "stream",
     "text": [
      "version: 2, stage: None\n"
     ]
    }
   ],
   "source": [
    "model_name = \"nyctaxi_tripduration_regressor\"\n",
    "latest_versions = client.get_latest_versions(name=model_name)\n",
    "\n",
    "for version in latest_versions:\n",
    "    print(f\"version: {version.version}, stage: {version.current_stage}\")"
   ]
  },
  {
   "cell_type": "code",
   "execution_count": null,
   "metadata": {},
   "outputs": [
    {
     "data": {
      "text/plain": [
       "<ModelVersion: aliases=[], creation_timestamp=1728119401861, current_stage='Staging', description='', last_updated_timestamp=1728119653928, name='nyctaxi_tripduration_regressor', run_id='b6ac39fd37a54b11a8394ea99caf5e14', run_link='', source='gs://mlflow-bucket-susu/1/b6ac39fd37a54b11a8394ea99caf5e14/artifacts/model', status='READY', status_message='', tags={}, user_id='', version='2'>"
      ]
     },
     "metadata": {},
     "output_type": "display_data"
    }
   ],
   "source": [
    "model_version = 2\n",
    "new_stage = \"Staging\"\n",
    "client.transition_model_version_stage(\n",
    "    name=model_name,\n",
    "    version=model_version,\n",
    "    stage=new_stage,\n",
    "    archive_existing_versions=False\n",
    ")"
   ]
  },
  {
   "cell_type": "code",
   "execution_count": null,
   "metadata": {},
   "outputs": [
    {
     "name": "stdout",
     "output_type": "stream",
     "text": [
      "version: 1, stage: None\n",
      "version: 2, stage: Staging\n"
     ]
    }
   ],
   "source": [
    "model_name = \"nyctaxi_tripduration_regressor\"\n",
    "latest_versions = client.get_latest_versions(name=model_name)\n",
    "\n",
    "for version in latest_versions:\n",
    "    print(f\"version: {version.version}, stage: {version.current_stage}\")"
   ]
  },
  {
   "cell_type": "code",
   "execution_count": null,
   "metadata": {},
   "outputs": [
    {
     "data": {
      "text/plain": [
       "<ModelVersion: aliases=[], creation_timestamp=1728119220068, current_stage='Production', description='', last_updated_timestamp=1728119702204, name='nyctaxi_tripduration_regressor', run_id='730586bbc7324f41bfd66cfd2b069517', run_link='', source='gs://mlflow-bucket-susu/1/730586bbc7324f41bfd66cfd2b069517/artifacts/model', status='READY', status_message='', tags={}, user_id='', version='1'>"
      ]
     },
     "metadata": {},
     "output_type": "display_data"
    }
   ],
   "source": [
    "model_version = 1\n",
    "new_stage = \"Production\"\n",
    "client.transition_model_version_stage(\n",
    "    name=model_name,\n",
    "    version=model_version,\n",
    "    stage=new_stage,\n",
    "    archive_existing_versions=False\n",
    ")"
   ]
  },
  {
   "cell_type": "code",
   "execution_count": null,
   "metadata": {},
   "outputs": [
    {
     "name": "stdout",
     "output_type": "stream",
     "text": [
      "version: 1, stage: Production\n",
      "version: 2, stage: Staging\n"
     ]
    }
   ],
   "source": [
    "model_name = \"nyctaxi_tripduration_regressor\"\n",
    "latest_versions = client.get_latest_versions(name=model_name)\n",
    "\n",
    "for version in latest_versions:\n",
    "    print(f\"version: {version.version}, stage: {version.current_stage}\")"
   ]
  },
  {
   "cell_type": "code",
   "execution_count": null,
   "metadata": {},
   "outputs": [],
   "source": [
    "def test_model(name, stage, X_test, y_test):\n",
    "    model = mlflow.pyfunc.load_model(f\"models:/{name}/{stage}\")\n",
    "    y_pred = model.predict(X_test)\n",
    "    return {\"rmse\": RMSE(y_test, y_pred)}"
   ]
  },
  {
   "cell_type": "code",
   "execution_count": null,
   "metadata": {},
   "outputs": [
    {
     "name": "stderr",
     "output_type": "stream",
     "text": [
      "Downloading artifacts: 100%|██████████| 5/5 [00:01<00:00,  4.15it/s]\n"
     ]
    },
    {
     "name": "stdout",
     "output_type": "stream",
     "text": [
      "CPU times: user 613 ms, sys: 27.6 ms, total: 640 ms\n",
      "Wall time: 4.15 s\n"
     ]
    },
    {
     "data": {
      "text/plain": [
       "{'rmse': 18.118447072717935}"
      ]
     },
     "metadata": {},
     "output_type": "display_data"
    }
   ],
   "source": [
    "model_name = \"nyctaxi_tripduration_regressor\"\n",
    "stage = \"Production\"\n",
    "\n",
    "%time test_model(name=model_name, stage=stage, X_test=X_test, y_test=y_test)\n"
   ]
  },
  {
   "cell_type": "code",
   "execution_count": null,
   "metadata": {},
   "outputs": [
    {
     "name": "stderr",
     "output_type": "stream",
     "text": [
      "Downloading artifacts: 100%|██████████| 5/5 [00:02<00:00,  1.99it/s]\n"
     ]
    },
    {
     "name": "stdout",
     "output_type": "stream",
     "text": [
      "CPU times: user 643 ms, sys: 35.7 ms, total: 678 ms\n",
      "Wall time: 5.4 s\n"
     ]
    },
    {
     "data": {
      "text/plain": [
       "{'rmse': 18.353562756759064}"
      ]
     },
     "metadata": {},
     "output_type": "display_data"
    }
   ],
   "source": [
    "model_name = \"nyctaxi_tripduration_regressor\"\n",
    "stage = \"Staging\"\n",
    "\n",
    "%time test_model(name=model_name, stage=stage, X_test=X_test, y_test=y_test)\n"
   ]
  }
 ],
 "metadata": {
  "kernelspec": {
   "display_name": "Python 3",
   "language": "python",
   "name": "python3"
  },
  "language_info": {
   "codemirror_mode": {
    "name": "ipython",
    "version": 3
   },
   "file_extension": ".py",
   "mimetype": "text/x-python",
   "name": "python",
   "nbconvert_exporter": "python",
   "pygments_lexer": "ipython3",
   "version": "3.12.4"
  }
 },
 "nbformat": 4,
 "nbformat_minor": 2
}
